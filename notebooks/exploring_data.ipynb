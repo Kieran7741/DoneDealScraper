{
 "cells": [
  {
   "cell_type": "markdown",
   "id": "seven-halifax",
   "metadata": {},
   "source": [
    "# Exploring Done deal data\n",
    "The `cars.json` file contains multiple cars details that have been scraped from done deal"
   ]
  },
  {
   "cell_type": "code",
   "execution_count": 1,
   "id": "changed-intake",
   "metadata": {},
   "outputs": [],
   "source": [
    "%matplotlib inline\n",
    "import matplotlib.pyplot as plt\n",
    "import pandas as pd\n",
    "pd.set_option('display.max_colwidth', None)"
   ]
  },
  {
   "cell_type": "code",
   "execution_count": 2,
   "id": "forced-mitchell",
   "metadata": {},
   "outputs": [
    {
     "data": {
      "text/html": [
       "<div>\n",
       "<style scoped>\n",
       "    .dataframe tbody tr th:only-of-type {\n",
       "        vertical-align: middle;\n",
       "    }\n",
       "\n",
       "    .dataframe tbody tr th {\n",
       "        vertical-align: top;\n",
       "    }\n",
       "\n",
       "    .dataframe thead th {\n",
       "        text-align: right;\n",
       "    }\n",
       "</style>\n",
       "<table border=\"1\" class=\"dataframe\">\n",
       "  <thead>\n",
       "    <tr style=\"text-align: right;\">\n",
       "      <th></th>\n",
       "      <th>title</th>\n",
       "      <th>price</th>\n",
       "      <th>year</th>\n",
       "      <th>engine_size</th>\n",
       "      <th>millage</th>\n",
       "      <th>ad_age</th>\n",
       "      <th>location</th>\n",
       "      <th>link</th>\n",
       "    </tr>\n",
       "  </thead>\n",
       "  <tbody>\n",
       "    <tr>\n",
       "      <th>0</th>\n",
       "      <td>Ford Focus 1.0 ECOBOOST</td>\n",
       "      <td>€8,950</td>\n",
       "      <td>2013</td>\n",
       "      <td>1.0 Petrol</td>\n",
       "      <td>61,449 mi</td>\n",
       "      <td>1 day</td>\n",
       "      <td>Kildare</td>\n",
       "      <td>https://www.donedeal.ie/cars-for-sale/ford-focus-1-0-ecoboost/27514492?campaign=3</td>\n",
       "    </tr>\n",
       "    <tr>\n",
       "      <th>1</th>\n",
       "      <td>Ford focus</td>\n",
       "      <td>€7,950</td>\n",
       "      <td>2012</td>\n",
       "      <td>1.6 Diesel</td>\n",
       "      <td>84,208 km</td>\n",
       "      <td>3 days</td>\n",
       "      <td>Kilkenny</td>\n",
       "      <td>https://www.donedeal.ie/cars-for-sale/ford-focus/27616562?campaign=3</td>\n",
       "    </tr>\n",
       "    <tr>\n",
       "      <th>2</th>\n",
       "      <td>Rs focus white 11k miles excellent condition</td>\n",
       "      <td>£33,950</td>\n",
       "      <td>2009</td>\n",
       "      <td>2.5 Petrol</td>\n",
       "      <td>11,000 mi</td>\n",
       "      <td>22 hours</td>\n",
       "      <td>Down</td>\n",
       "      <td>https://www.donedeal.ie/cars-for-sale/rs-focus-white-11k-miles-excellent-condition/27351203?campaign=3</td>\n",
       "    </tr>\n",
       "    <tr>\n",
       "      <th>3</th>\n",
       "      <td>Ford Focus, 2010 New Test</td>\n",
       "      <td>€4,500</td>\n",
       "      <td>2010</td>\n",
       "      <td>1.6 Diesel</td>\n",
       "      <td>124,200 mi</td>\n",
       "      <td>10 mins</td>\n",
       "      <td>Kerry</td>\n",
       "      <td>https://www.donedeal.ie/cars-for-sale/ford-focus-2010-new-test/27652031</td>\n",
       "    </tr>\n",
       "    <tr>\n",
       "      <th>4</th>\n",
       "      <td>Ford Focus 2.0 Tdci St-2 185BHP - Stunning Car -</td>\n",
       "      <td>€22,995</td>\n",
       "      <td>2018</td>\n",
       "      <td>2.0 Diesel</td>\n",
       "      <td>76,258 km</td>\n",
       "      <td>24 mins</td>\n",
       "      <td>Mayo</td>\n",
       "      <td>https://www.donedeal.ie/cars-for-sale/ford-focus-2-0-tdci-st-2-185bhp-stunning-car-/26792039</td>\n",
       "    </tr>\n",
       "  </tbody>\n",
       "</table>\n",
       "</div>"
      ],
      "text/plain": [
       "                                              title    price  year  \\\n",
       "0                           Ford Focus 1.0 ECOBOOST   €8,950  2013   \n",
       "1                                        Ford focus   €7,950  2012   \n",
       "2      Rs focus white 11k miles excellent condition  £33,950  2009   \n",
       "3                         Ford Focus, 2010 New Test   €4,500  2010   \n",
       "4  Ford Focus 2.0 Tdci St-2 185BHP - Stunning Car -  €22,995  2018   \n",
       "\n",
       "  engine_size     millage    ad_age  location  \\\n",
       "0  1.0 Petrol   61,449 mi     1 day   Kildare   \n",
       "1  1.6 Diesel   84,208 km    3 days  Kilkenny   \n",
       "2  2.5 Petrol   11,000 mi  22 hours      Down   \n",
       "3  1.6 Diesel  124,200 mi   10 mins     Kerry   \n",
       "4  2.0 Diesel   76,258 km   24 mins      Mayo   \n",
       "\n",
       "                                                                                                     link  \n",
       "0                       https://www.donedeal.ie/cars-for-sale/ford-focus-1-0-ecoboost/27514492?campaign=3  \n",
       "1                                    https://www.donedeal.ie/cars-for-sale/ford-focus/27616562?campaign=3  \n",
       "2  https://www.donedeal.ie/cars-for-sale/rs-focus-white-11k-miles-excellent-condition/27351203?campaign=3  \n",
       "3                                 https://www.donedeal.ie/cars-for-sale/ford-focus-2010-new-test/27652031  \n",
       "4            https://www.donedeal.ie/cars-for-sale/ford-focus-2-0-tdci-st-2-185bhp-stunning-car-/26792039  "
      ]
     },
     "execution_count": 2,
     "metadata": {},
     "output_type": "execute_result"
    }
   ],
   "source": [
    "cars = pd.read_json('cars.json')\n",
    "cars.head()"
   ]
  },
  {
   "cell_type": "markdown",
   "id": "original-playback",
   "metadata": {},
   "source": [
    "## Convert price from string to euro amount"
   ]
  },
  {
   "cell_type": "code",
   "execution_count": 3,
   "id": "handmade-nashville",
   "metadata": {},
   "outputs": [],
   "source": [
    "normal_price = []\n",
    "for price in cars['price']:\n",
    "    price = price.strip('£€').replace(',','')\n",
    "    if price == 'No Price':\n",
    "        price = 0\n",
    "    normal_price.append(int(price))\n",
    "cars['normal_price'] = normal_price"
   ]
  },
  {
   "cell_type": "code",
   "execution_count": 4,
   "id": "three-sauce",
   "metadata": {},
   "outputs": [
    {
     "data": {
      "text/plain": [
       "<matplotlib.collections.PathCollection at 0x128ca06d0>"
      ]
     },
     "execution_count": 4,
     "metadata": {},
     "output_type": "execute_result"
    },
    {
     "data": {
      "image/png": "[encoded data removed]",
      "text/plain": [
       "<Figure size 432x288 with 1 Axes>"
      ]
     },
     "metadata": {
      "needs_background": "light"
     },
     "output_type": "display_data"
    }
   ],
   "source": [
    "plt.scatter(cars['year'], cars['normal_price'])"
   ]
  }
 ],
 "metadata": {
  "kernelspec": {
   "display_name": "Python 3",
   "language": "python",
   "name": "python3"
  },
  "language_info": {
   "codemirror_mode": {
    "name": "ipython",
    "version": 3
   },
   "file_extension": ".py",
   "mimetype": "text/x-python",
   "name": "python",
   "nbconvert_exporter": "python",
   "pygments_lexer": "ipython3",
   "version": "3.9.1"
  }
 },
 "nbformat": 4,
 "nbformat_minor": 5
}
